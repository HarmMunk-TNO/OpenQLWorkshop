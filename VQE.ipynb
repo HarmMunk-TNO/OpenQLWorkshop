{
 "cells": [
  {
   "cell_type": "markdown",
   "id": "1b9d38d7",
   "metadata": {},
   "source": [
    "### Define a random probability distribution"
   ]
  },
  {
   "cell_type": "markdown",
   "id": "bffa94ce",
   "metadata": {},
   "source": [
    "Based on a QisKit example: https://learn.qiskit.org/course/ch-applications/simulating-molecules-using-vqe"
   ]
  },
  {
   "cell_type": "code",
   "execution_count": null,
   "id": "65935ac7",
   "metadata": {},
   "outputs": [],
   "source": [
    "import numpy as np\n",
    "p0 = np.random.random()\n",
    "target_distr = {0: p0, 1: 1-p0}\n",
    "print(f\"{p0} .. {1-p0}\")"
   ]
  },
  {
   "cell_type": "markdown",
   "id": "1b478e08",
   "metadata": {},
   "source": [
    "### A function that returns an quantum circuit based on three parameters"
   ]
  },
  {
   "cell_type": "code",
   "execution_count": null,
   "id": "87bf8bab",
   "metadata": {},
   "outputs": [],
   "source": [
    "from openql import openql as ql\n",
    "import math\n",
    "\n",
    "#For now, we'll use only one qbit\n",
    "nqubits = 1\n",
    "\n",
    "# We'll do 1024 shots in a simulation\n",
    "n_shots = 1024\n",
    "\n",
    "# Some housekeeping:\n",
    "# - file extension for cQASM files:\n",
    "cqasm_ext = \".qasm\"\n",
    "# - the directory where the cQASM file and the QXelarator output results are stored:\n",
    "output_dir = \"output/\"\n",
    "# - the prefix for all files resulting from this experiment:\n",
    "prefix = \"VQE\"\n",
    "# - name of the file containing the cQASM representation of the quantum circuit\n",
    "cqasm_qc_file = output_dir + prefix + cqasm_ext\n",
    "# - name of the file containing the simulation results\n",
    "sim_result_file = output_dir + prefix + \"_simulation_result.json\"\n",
    "\n",
    "def get_var_form(params):\n",
    "    # Initialise OpenQL:\n",
    "    # - make sure the compiler is (re)initialised before we construct a new quantum circuit\n",
    "    ql.initialize()\n",
    "    # - set the directory where the cQASM file are stored\n",
    "    ql.set_option('output_dir', output_dir)\n",
    "    # - set the logging level to 'information'\n",
    "    ql.set_option('log_level', 'LOG_INFO')\n",
    "\n",
    "    # Define the platform. We'll use the default platform\n",
    "    platform = ql.Platform('MyPlatform', 'none')\n",
    "        \n",
    "    # Define the program 'VQE'. The program will be run on 'platform', and it will use 1 qbit\n",
    "    VQE = ql.Program(prefix, platform, nqubits)\n",
    "    \n",
    "    # The following four lines are 'magic' to make sure OpenQL produces cQASM 1.0\n",
    "    # After QXelerator is upgraded to cQASM 1.2, these lines (should) become obsolete\n",
    "    VQE.get_compiler().set_option('initialqasmwriter.cqasm_version', '1.0')\n",
    "    VQE.get_compiler().set_option('initialqasmwriter.with_metadata', 'no')\n",
    "    VQE.get_compiler().set_option('scheduledqasmwriter.cqasm_version', '1.0')\n",
    "    VQE.get_compiler().set_option('scheduledqasmwriter.with_metadata', 'no')\n",
    "    \n",
    "    # An OpenQL program consists of kernels.\n",
    "    # Here we have three kernels: preparation, universal 3 parameter quantum circuit, and a measurement\n",
    "    prep = ql.Kernel('prep', platform, nqubits)\n",
    "    u3_1 = ql.Kernel('u3_1', platform, nqubits)\n",
    "    u3_2 = ql.Kernel('u3_2', platform, nqubits)\n",
    "    meas = ql.Kernel('meas', platform, nqubits)\n",
    "    \n",
    "    q = 0  # The number of the qubit used in the following statements\n",
    "    \n",
    "    prep.prepz(q)         # Set the qbit in a zero state\n",
    "    \n",
    "    u3_1.rz(q, params[2])           # Rotate over  params[2] radians around the z-axis\n",
    "    u3_1.rx(q, math.pi/2)           # Rotate over pi/2 radians around the x-axis\n",
    "    u3_1.rz(q, params[0] + math.pi) # Rotate over angle params[0] + pi radians around the z-axis\n",
    "    u3_1.rx(q, math.pi/2)           # Rotate over pi/2 radians around the x-axis\n",
    "    u3_1.rz(q, params[1] + math.pi) # Rotate over params[1]  + pi radians around the z-axis\n",
    "    \n",
    "    u3_2.rz(q, params[0])\n",
    "    u3_2.ry(q, params[1])\n",
    "    u3_2.rz(q, params[2])\n",
    "    \n",
    "    meas.measure(q)       # Measure the qbit\n",
    "    \n",
    "    # Attach the kernels to the program VQE in the proper order\n",
    "    VQE.add_kernel(prep)\n",
    "    VQE.add_kernel(u3_1)\n",
    "    VQE.add_kernel(meas)\n",
    "    \n",
    "    # Finally, compile the program VQE\n",
    "    VQE.compile()\n",
    "    \n",
    "    # Done, return the program VQE\n",
    "    return VQE"
   ]
  },
  {
   "cell_type": "markdown",
   "id": "4091b825",
   "metadata": {},
   "source": [
    "See https://github.com/QuTech-Delft/qtt/blob/dev/src/qtt/qiskit/passes.py#L167 for the definition of the breakdown of the universal quantum gate in Rx and Rz gates"
   ]
  },
  {
   "cell_type": "code",
   "execution_count": null,
   "id": "8fba1f4d",
   "metadata": {},
   "outputs": [],
   "source": [
    "myProgram = get_var_form([0, 0, 0])"
   ]
  },
  {
   "cell_type": "code",
   "execution_count": null,
   "id": "d9fb0b8e",
   "metadata": {},
   "outputs": [],
   "source": [
    "import os\n",
    "print(os.listdir(output_dir))"
   ]
  },
  {
   "cell_type": "code",
   "execution_count": null,
   "id": "94bd5180",
   "metadata": {},
   "outputs": [],
   "source": [
    "with open(cqasm_qc_file) as file:\n",
    "    print(file.read())\n"
   ]
  },
  {
   "cell_type": "code",
   "execution_count": null,
   "id": "d989a158",
   "metadata": {},
   "outputs": [],
   "source": [
    "with open(output_dir + prefix + \"_scheduled.qasm\") as file:\n",
    "    print(file.read())"
   ]
  },
  {
   "cell_type": "code",
   "execution_count": null,
   "id": "4927faf5",
   "metadata": {
    "scrolled": true
   },
   "outputs": [],
   "source": [
    "import qxelarator\n",
    "\n",
    "# Define a qxelarator\n",
    "qx = qxelarator.QX()\n",
    "\n",
    "# Set the file where the simulation output is stored\n",
    "qx.set_json_output_path(sim_result_file)\n",
    "\n",
    "# Load the cQASM file in the simulator\n",
    "qx.set(cqasm_qc_file)"
   ]
  },
  {
   "cell_type": "code",
   "execution_count": null,
   "id": "88ebe38a",
   "metadata": {},
   "outputs": [],
   "source": [
    "import json\n",
    "\n",
    "# Simualte the circuit 1024 times. The result is stored in the 'sim_result_file' in JSON format\n",
    "qx.execute(1024)\n",
    "\n",
    "# Get the result\n",
    "with open(sim_result_file) as file:\n",
    "    res = json.loads(file.read())\n",
    "print(res)\n",
    "\n",
    "# Get the result, and convert from JSON into a Python dictionary\n",
    "with open(sim_result_file) as file:\n",
    "    res = json.loads(file.read())\n",
    "print(res)"
   ]
  },
  {
   "cell_type": "code",
   "execution_count": null,
   "id": "0a3d7bba",
   "metadata": {},
   "outputs": [],
   "source": [
    "def result_to_distr(simulation_result):\n",
    "    results = simulation_result['results']\n",
    "    return  [results.get('0000000000', 0.0), results.get('0000000001', 0.0)]\n",
    "\n",
    "cost_values=[]\n",
    "\n",
    "def objective_function(params):\n",
    "    # Create circuit\n",
    "    qc = get_var_form(params)\n",
    "    \n",
    "    # Simulate circuit\n",
    "#    qx = qxelarator.QX()\n",
    "#    qx.set_json_output_path(sim_result_file) # output/VQE_simulation_result.json\n",
    "    qx.set(cqasm_qc_file) # output/VQE.qasm\n",
    "    qx.execute(n_shots)\n",
    "    \n",
    "    # Get the results\n",
    "    with open(sim_result_file) as file:\n",
    "        simulation_result = json.loads(file.read())\n",
    "    output_distr = result_to_distr(simulation_result)\n",
    "    cost = sum(abs(target_distr.get(i, 0) - output_distr[i])\n",
    "              for i in range(2**nqubits))\n",
    "    global cost_values\n",
    "    cost_values += [cost]\n",
    "    return cost"
   ]
  },
  {
   "cell_type": "code",
   "execution_count": null,
   "id": "f34658e8",
   "metadata": {},
   "outputs": [],
   "source": [
    "params = np.random.rand(3)\n",
    "objective_function([0,0,0])"
   ]
  },
  {
   "cell_type": "code",
   "execution_count": null,
   "id": "d57408bb",
   "metadata": {},
   "outputs": [],
   "source": [
    "from scipy.optimize import minimize\n",
    "\n",
    "params = np.random.rand(3)\n",
    "params = [0.0, 0.0, 0.0]\n",
    "cost_values=[]\n",
    "result = minimize(fun=objective_function, x0=params, method=\"COBYLA\", options={'maxiter': 500, 'tol': 0.0001})\n",
    "print(result)\n",
    "\n",
    "qc = get_var_form(result.x)\n",
    "qx.execute(10000)\n",
    "with open(sim_result_file) as file:\n",
    "        simulation_result = json.loads(file.read())\n",
    "output_distr = result_to_distr(simulation_result)\n",
    "\n",
    "print(f\"Parameters found: {result.x}\")\n",
    "print(f\"Target distribution: {(target_distr)}\")\n",
    "print(f\"Obtained distribution: {output_distr}\")\n",
    "print(f\"Cost: {objective_function(result.x)}\")\n",
    "\n",
    "import matplotlib.pyplot as plt\n",
    "plt.plot(cost_values)\n",
    "plt.ylabel('cost')\n",
    "plt.show()"
   ]
  }
 ],
 "metadata": {
  "kernelspec": {
   "display_name": "Python 3 (ipykernel)",
   "language": "python",
   "name": "python3"
  },
  "language_info": {
   "codemirror_mode": {
    "name": "ipython",
    "version": 3
   },
   "file_extension": ".py",
   "mimetype": "text/x-python",
   "name": "python",
   "nbconvert_exporter": "python",
   "pygments_lexer": "ipython3",
   "version": "3.9.15"
  }
 },
 "nbformat": 4,
 "nbformat_minor": 5
}
