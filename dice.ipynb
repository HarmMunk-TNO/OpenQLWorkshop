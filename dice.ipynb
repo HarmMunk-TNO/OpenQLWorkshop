{
 "cells": [
  {
   "cell_type": "code",
   "execution_count": null,
   "id": "50fb38c2",
   "metadata": {},
   "outputs": [],
   "source": [
    "from openql import openql as ql\n",
    "\n",
    "platform = ql.Platform('myPlatform', 'none')\n",
    "\n",
    "print(platform.dump_info())"
   ]
  },
  {
   "cell_type": "code",
   "execution_count": null,
   "id": "cc417607",
   "metadata": {},
   "outputs": [],
   "source": [
    "import qxelarator\n",
    "\n",
    "from functools import reduce\n",
    "\n",
    "import os\n",
    "\n",
    "import matplotlib.pyplot as plt\n",
    "\n",
    "# Some housekeeping:\n",
    "# - the directory where the cQASM file is stored:\n",
    "ql.set_option('output_dir', 'output')\n",
    "# - set the logging level to 'information'\n",
    "ql.set_option('log_level', 'LOG_INFO')\n",
    "\n",
    "# We'll use three qbits\n",
    "nqubits = 3"
   ]
  },
  {
   "attachments": {
    "image-2.png": {
     "image/png": "[encoded data removed]"
    }
   },
   "cell_type": "markdown",
   "id": "f30fc4cc",
   "metadata": {},
   "source": [
    "![image-2.png](attachment:image-2.png)"
   ]
  },
  {
   "cell_type": "code",
   "execution_count": null,
   "id": "6f3f2543",
   "metadata": {},
   "outputs": [],
   "source": [
    "def dice_compile():\n",
    "    # Define the platform. We'll use the default platform 'none'\n",
    "    platform = ql.Platform('myPlatform', 'none')\n",
    "    # Define the program 'Dice'. The program will be run on 'platform', and it will use 3 qbits\n",
    "    dice = ql.Program('Dice', platform, nqubits)\n",
    "\n",
    "    # The following four lines are 'magic' to make sure OpenQL produces cQASM 1.0\n",
    "    # After QXelarator is upgraded to cQASM 1.2, these lines (should) become obsolete\n",
    "    dice.get_compiler().set_option('initialqasmwriter.cqasm_version', '1.0')\n",
    "    dice.get_compiler().set_option('initialqasmwriter.with_metadata', 'no')\n",
    "    dice.get_compiler().set_option('scheduledqasmwriter.cqasm_version', '1.0')\n",
    "    dice.get_compiler().set_option('scheduledqasmwriter.with_metadata', 'no')\n",
    "    \n",
    "    # An OpenQL program consists of kernels.\n",
    "    # Here we have three kernels: preparation, hadamard, anda measurement\n",
    "    prep  = ql.Kernel('prep',  platform, nqubits)\n",
    "    hadam = ql.Kernel('hadam', platform, nqubits)\n",
    "    meas  = ql.Kernel('meas',  platform, nqubits)\n",
    "\n",
    "    for q in range(nqubits):\n",
    "        prep.gate('prepz', [q])\n",
    "\n",
    "    for q in range(nqubits):\n",
    "        hadam.gate('h', [q])\n",
    "\n",
    "    for q in range(nqubits):\n",
    "        meas.gate('measure', [q])\n",
    "\n",
    "    # Attach the kernels to the program Dice in the proper order\n",
    "    dice.add_kernel(prep)\n",
    "    dice.add_kernel(hadam)\n",
    "    dice.add_kernel(meas)\n",
    "    \n",
    "    # Finally, compile the program dice\n",
    "    dice.compile()"
   ]
  },
  {
   "cell_type": "code",
   "execution_count": null,
   "id": "ddc6edfa",
   "metadata": {},
   "outputs": [],
   "source": [
    "dice_compile()\n",
    "with open('output/Dice.qasm') as file:\n",
    "    res = file.read()\n",
    "print(res)"
   ]
  },
  {
   "cell_type": "code",
   "execution_count": null,
   "id": "1797c7be",
   "metadata": {},
   "outputs": [],
   "source": [
    "def dice_execute_singleshot():\n",
    "    # Define a qxelarator\n",
    "    qx = qxelarator.QX()\n",
    "\n",
    "    # Load the cQASM representation of the quantum circuit into qxelarator\n",
    "    qx.set('output/Dice.qasm')\n",
    "\n",
    "    # execute simulate (once!)\n",
    "    qx.execute()\n",
    "\n",
    "    # get the measurement results\n",
    "    res = [int(qx.get_measurement_outcome(q)) for q in range(nqubits)]\n",
    "    print(f'\"Raw\" simulation result: {res}')\n",
    "\n",
    "    # convert the measurement results from 3 qubits to dice face value\n",
    "    dice_face = reduce(lambda x, y: 2*x+y, res, 0) + 1\n",
    "    print(f'Dice face : {dice_face}')\n",
    "\n",
    "\n",
    "def dice_execute_multishot_v1(ntests):\n",
    "\n",
    "    # Define a qxelarator\n",
    "    qx = qxelarator.QX()\n",
    "\n",
    "    # Load the cQASM representation of the quantum circuit into qxelarator\n",
    "    qx.set('output/Dice.qasm')\n",
    "    \n",
    "    dice_faces = []\n",
    "\n",
    "    for i in range(ntests):\n",
    "        # execute simulate (once!)\n",
    "        qx.execute()\n",
    "        # get the measurement results\n",
    "        res = [int(qx.get_measurement_outcome(q)) for q in range(nqubits)]\n",
    "        # for q in range(nqubits):\n",
    "        #     print(f'qx.get_measurement_outcome(q)={int(qx.get_measurement_outcome(q))}')\n",
    "        \n",
    "        # convert the measurement results from 3 qubits to dice face value\n",
    "        dice_face = reduce(lambda x, y: 2*x+y, res, 0) + 1\n",
    "        dice_faces.append(dice_face)\n",
    "\n",
    "    print(dice_faces)\n",
    "    plot_histogram(dice_faces)\n",
    "\n",
    "def plot_histogram(dice_faces):\n",
    "    plt.hist(dice_faces, bins=8, color='#0504aa',alpha=0.7, rwidth=0.85)\n",
    "    plt.grid(axis='y', alpha=0.75)\n",
    "    plt.xlabel('Dice Face',fontsize=15)\n",
    "    plt.ylabel('Frequency',fontsize=15)\n",
    "    plt.xticks(fontsize=15)\n",
    "    plt.yticks(fontsize=15)\n",
    "    plt.title('Histogram',fontsize=15)\n",
    "    plt.show()\n",
    "    plt.savefig('hist.png')\n",
    "\n",
    "dice_compile()\n"
   ]
  },
  {
   "cell_type": "code",
   "execution_count": null,
   "id": "c05a6996",
   "metadata": {
    "scrolled": true
   },
   "outputs": [],
   "source": [
    "dice_execute_singleshot()"
   ]
  },
  {
   "cell_type": "code",
   "execution_count": null,
   "id": "76ed661c",
   "metadata": {},
   "outputs": [],
   "source": [
    "dice_execute_multishot_v1(100)"
   ]
  },
  {
   "cell_type": "code",
   "execution_count": null,
   "id": "a49b24a4",
   "metadata": {},
   "outputs": [],
   "source": [
    "import json\n",
    "\n",
    "def result_to_distr(simulation_result):\n",
    "    results = simulation_result['results']\n",
    "    return  [results.get('0000000000', 0.0), results.get('0000000001', 0.0),\n",
    "             results.get('0000000010', 0.0), results.get('0000000011', 0.0),\n",
    "             results.get('0000000100', 0.0), results.get('0000000101', 0.0),\n",
    "             results.get('0000000110', 0.0), results.get('0000000111', 0.0)\n",
    "             ]\n",
    "\n",
    "def dice_execute_multishot_v2(ntests):\n",
    "    qx = qxelarator.QX()\n",
    "    qx.set('output/Dice.qasm')\n",
    "\n",
    "    # Set the file where the simulation output is stored\n",
    "    qx.set_json_output_path('output/Dice.json')\n",
    "    qx.execute(ntests)\n",
    "    with open('output/Dice.json') as file:\n",
    "        res = json.loads(file.read())\n",
    "    outcome = result_to_distr(res)\n",
    "    print(res)\n",
    "    print(outcome)\n",
    "    \n",
    "    plt.bar([1,2,3,4,5,6,7,8],outcome)\n",
    "    plt.xlabel('Dice Face',fontsize=15)\n",
    "    plt.ylabel('Frequency',fontsize=15)\n",
    "    plt.title('Histogram',fontsize=15)\n",
    "    plt.show()\n",
    "\n",
    "dice_execute_multishot_v2(1000)"
   ]
  }
 ],
 "metadata": {
  "kernelspec": {
   "display_name": "Python 3 (ipykernel)",
   "language": "python",
   "name": "python3"
  },
  "language_info": {
   "codemirror_mode": {
    "name": "ipython",
    "version": 3
   },
   "file_extension": ".py",
   "mimetype": "text/x-python",
   "name": "python",
   "nbconvert_exporter": "python",
   "pygments_lexer": "ipython3",
   "version": "3.9.15"
  }
 },
 "nbformat": 4,
 "nbformat_minor": 5
}
